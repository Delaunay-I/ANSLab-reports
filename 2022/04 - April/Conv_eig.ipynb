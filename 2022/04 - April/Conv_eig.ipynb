{
 "cells": [
  {
   "cell_type": "code",
   "execution_count": 2,
   "id": "c620de02-47d4-461c-bc65-11dee93059f6",
   "metadata": {},
   "outputs": [],
   "source": [
    "import numpy as np\n",
    "import pandas\n",
    "\n",
    "def Read(rows):\n",
    "    X = open('../result_ITA_Solve/Residual.plt', 'r')\n",
    "    convData = X.read() # Read as string\n",
    "    convDataList = convData.split() # Split by space\n",
    "    convDataArray = np.array(convDataList) # Convert to numpy array\n",
    "    #convDataArray = np.loadtxt('../residual.dat', unpack = True)\n",
    "    convDataArray = convDataArray.reshape(rows, 2)\n",
    "    return (convDataArray)\n",
    "\n",
    "data = Read(419)\n",
    "convDataFrame = pandas.DataFrame(data, columns =['iter', 'l2norm'])\n",
    "convDataFrame['iter'] = convDataFrame['iter'].astype(int)\n",
    "convDataFrame['l2norm'] = convDataFrame['l2norm'].astype(float)"
   ]
  },
  {
   "cell_type": "code",
   "execution_count": 52,
   "id": "a6a81a66-b622-4109-aa55-c4c55741f5e0",
   "metadata": {
    "tags": []
   },
   "outputs": [
    {
     "data": {
      "text/html": [
       "<div>\n",
       "<style scoped>\n",
       "    .dataframe tbody tr th:only-of-type {\n",
       "        vertical-align: middle;\n",
       "    }\n",
       "\n",
       "    .dataframe tbody tr th {\n",
       "        vertical-align: top;\n",
       "    }\n",
       "\n",
       "    .dataframe thead th {\n",
       "        text-align: right;\n",
       "    }\n",
       "</style>\n",
       "<table border=\"1\" class=\"dataframe\">\n",
       "  <thead>\n",
       "    <tr style=\"text-align: right;\">\n",
       "      <th></th>\n",
       "      <th>iter</th>\n",
       "      <th>l2norm</th>\n",
       "    </tr>\n",
       "  </thead>\n",
       "  <tbody>\n",
       "    <tr>\n",
       "      <th>0</th>\n",
       "      <td>0</td>\n",
       "      <td>33.908700</td>\n",
       "    </tr>\n",
       "    <tr>\n",
       "      <th>1</th>\n",
       "      <td>1</td>\n",
       "      <td>24.831700</td>\n",
       "    </tr>\n",
       "    <tr>\n",
       "      <th>2</th>\n",
       "      <td>2</td>\n",
       "      <td>17.844200</td>\n",
       "    </tr>\n",
       "    <tr>\n",
       "      <th>3</th>\n",
       "      <td>3</td>\n",
       "      <td>12.618400</td>\n",
       "    </tr>\n",
       "    <tr>\n",
       "      <th>4</th>\n",
       "      <td>4</td>\n",
       "      <td>8.790430</td>\n",
       "    </tr>\n",
       "    <tr>\n",
       "      <th>5</th>\n",
       "      <td>5</td>\n",
       "      <td>6.002010</td>\n",
       "    </tr>\n",
       "    <tr>\n",
       "      <th>6</th>\n",
       "      <td>6</td>\n",
       "      <td>3.977030</td>\n",
       "    </tr>\n",
       "    <tr>\n",
       "      <th>7</th>\n",
       "      <td>7</td>\n",
       "      <td>2.522140</td>\n",
       "    </tr>\n",
       "    <tr>\n",
       "      <th>8</th>\n",
       "      <td>8</td>\n",
       "      <td>1.537250</td>\n",
       "    </tr>\n",
       "    <tr>\n",
       "      <th>9</th>\n",
       "      <td>9</td>\n",
       "      <td>0.964909</td>\n",
       "    </tr>\n",
       "  </tbody>\n",
       "</table>\n",
       "</div>"
      ],
      "text/plain": [
       "   iter     l2norm\n",
       "0     0  33.908700\n",
       "1     1  24.831700\n",
       "2     2  17.844200\n",
       "3     3  12.618400\n",
       "4     4   8.790430\n",
       "5     5   6.002010\n",
       "6     6   3.977030\n",
       "7     7   2.522140\n",
       "8     8   1.537250\n",
       "9     9   0.964909"
      ]
     },
     "execution_count": 52,
     "metadata": {},
     "output_type": "execute_result"
    }
   ],
   "source": [
    "convDataFrame.head(10)"
   ]
  },
  {
   "cell_type": "code",
   "execution_count": 93,
   "id": "7a5a81f4-03fc-4edb-a5d2-e6aa5c713cc6",
   "metadata": {},
   "outputs": [],
   "source": [
    "from scipy.stats import linregress\n",
    "import math\n",
    "\n",
    "def sliceData(start, end):\n",
    "    dfExtract = convDataFrame.loc[start:end, 'iter':'l2norm']\n",
    "    return(dfExtract)\n",
    "\n",
    "def calcSigma(data):\n",
    "    x = data['iter'].to_numpy()\n",
    "    y = data['l2norm'].to_numpy()\n",
    "    logY = np.log(y)\n",
    "    result = linregress(x, logY)\n",
    "    slope = result.slope\n",
    "    print(\"Slope = {}\".format(slope))  \n",
    "    #print(\"type of slope is\", type(slope)) # Debugging tool\n",
    "    sigma = math.exp(slope)\n",
    "    print(\"Sigma = {}\".format(sigma))\n",
    "    return(sigma)\n",
    "    "
   ]
  },
  {
   "cell_type": "markdown",
   "id": "67b4f386-af0c-453d-809d-4c13d846613a",
   "metadata": {},
   "source": [
    "### Found the time-step by assuming that the 1st pair of complex conjugate eigenvalues are the dominant modes"
   ]
  },
  {
   "cell_type": "code",
   "execution_count": 105,
   "id": "ffdf7162-d7d4-4774-af11-129f345f98cf",
   "metadata": {},
   "outputs": [
    {
     "name": "stdout",
     "output_type": "stream",
     "text": [
      "Slope = -0.19588858953195445\n",
      "Sigma = 0.8221038205477088\n",
      "Eigenvalue Rel = -49.346838542200004\n",
      "dt = 0.004385111294759333\n"
     ]
    }
   ],
   "source": [
    "# Found the time-step by assuming that the 2nd complex eigenpair are dominant\n",
    "Dt = 0.004385111294759333\n",
    "\n",
    "def findEigen(start, end):\n",
    "    extDF = sliceData(start, end)\n",
    "    sigma = calcSigma(extDF)\n",
    "    lamDt = 1 - 1/sigma\n",
    "    lamda = lamDt/Dt\n",
    "    \n",
    "    deltaT = lamDt/-49.3468385422\n",
    "    return(lamda, deltaT)\n",
    "    \n",
    "\n",
    "Lambda, deltaT = findEigen(60, 70)\n",
    "print(\"Eigenvalue Rel = {}\".format(Lambda))\n",
    "print(\"dt = {}\".format(deltaT))\n"
   ]
  },
  {
   "cell_type": "code",
   "execution_count": null,
   "id": "df43ab99-8476-467d-8dff-cd349174c924",
   "metadata": {},
   "outputs": [],
   "source": []
  },
  {
   "cell_type": "code",
   "execution_count": null,
   "id": "f156cb3e-7db8-4a7e-aedf-3740591727a5",
   "metadata": {},
   "outputs": [],
   "source": []
  }
 ],
 "metadata": {
  "kernelspec": {
   "display_name": "Python 3 (ipykernel)",
   "language": "python",
   "name": "python3"
  },
  "language_info": {
   "codemirror_mode": {
    "name": "ipython",
    "version": 3
   },
   "file_extension": ".py",
   "mimetype": "text/x-python",
   "name": "python",
   "nbconvert_exporter": "python",
   "pygments_lexer": "ipython3",
   "version": "3.8.10"
  }
 },
 "nbformat": 4,
 "nbformat_minor": 5
}
