{
 "cells": [
  {
   "cell_type": "markdown",
   "id": "2b8b2bc9-85aa-49cd-b8e6-670362c028b0",
   "metadata": {},
   "source": [
    "# 2022-September-14"
   ]
  },
  {
   "cell_type": "code",
   "execution_count": 3,
   "id": "cec53c1c-5012-4bf0-94eb-3857e1a150af",
   "metadata": {},
   "outputs": [],
   "source": [
    "from IPython.display import HTML, display"
   ]
  },
  {
   "cell_type": "markdown",
   "id": "93b5d3c8-f84c-4ad2-b5e2-7418acf4a709",
   "metadata": {
    "tags": []
   },
   "source": [
    "## 1st feature\n",
    "### Automating the iteration to apply the DMD overrelaxation\n",
    "I implemented this based on the slope of the residual.\\\n",
    "For this, I collected a deque of data with residual norms in it, and ran a linear regression on its log values. This gave me the slope of that section of the residual history.\\\n",
    "Then I compared these slopes with the last slope, if the ratio of the $\\dfrac{new\\_slope}{old\\_slope}$ becomes close to $1 (1 \\pm0.001)$ it activates the DMD.\\\n",
    "A challenge with this method is to choose the appropriate number of residual point to do the regression on.\n",
    "- For example, for the Navier--Stokes case, without applying the DMD overrelaxation we have more than 2000 iterations for the problem to converge, and slope changes happen in longer periods(about 250 iterations to reach a relatively constant slope). So for this problem, I am collecting 100 residual points for the regression.\n",
    "- For the Poisson case, without the DMD update, we have around 1000 iterations to converge, and slope changes happen in shorter periods. For example for Poisson we reach a constant slope in approximately 70 iterations. So for this problem I am collecting only 20 residual points to do regression on. <br>\n",
    "<br>So basically, for different problems we need to hand-tune this paramter so that it suits the problem. And this parameter is mostly affected by: how the slope changes per iteration.\n",
    "\n",
    "## 2nd feature\n",
    "### Automating the selection of low-rank svd approximation\n",
    "These test cases also use automatic set-up of the DMD matrix. So it automatically selects the appropriate rank-approximation for the low-rank SVD. For this case I used the simple approach of just keeping the singularvalues that are greater than $e-15$.\\\n",
    "Now let's see a few test results that were automated by this method:"
   ]
  },
  {
   "cell_type": "code",
   "execution_count": 7,
   "id": "cbaaccde-1369-4e09-b2b2-2a536777694f",
   "metadata": {},
   "outputs": [
    {
     "data": {
      "text/html": [
       "<table><tr><td><img src='NavierStokes_resplots_diffsnaps.png'></td><td><img src='Poisson_resplots_diffsnaps.png'></td></tr></table>"
      ],
      "text/plain": [
       "<IPython.core.display.HTML object>"
      ]
     },
     "metadata": {},
     "output_type": "display_data"
    }
   ],
   "source": [
    "display(HTML(\"<table><tr><td><img src='NavierStokes_resplots_diffsnaps.png'></td><td><img src='Poisson_resplots_diffsnaps.png'></td></tr></table>\"))"
   ]
  },
  {
   "cell_type": "markdown",
   "id": "130ec3b5-e824-49b7-9133-ecb6a22c3ed8",
   "metadata": {},
   "source": [
    "For the poisson case I am collecting 20 residual points, and do the regression on that data to find the slope.\\\n",
    "For Navier--Stokes, I coolect 100 residual points."
   ]
  },
  {
   "cell_type": "code",
   "execution_count": null,
   "id": "ac79e4b1-6a65-430c-b3bc-bb3fad72ef2b",
   "metadata": {},
   "outputs": [],
   "source": []
  }
 ],
 "metadata": {
  "kernelspec": {
   "display_name": "Python 3 (ipykernel)",
   "language": "python",
   "name": "python3"
  },
  "language_info": {
   "codemirror_mode": {
    "name": "ipython",
    "version": 3
   },
   "file_extension": ".py",
   "mimetype": "text/x-python",
   "name": "python",
   "nbconvert_exporter": "python",
   "pygments_lexer": "ipython3",
   "version": "3.8.10"
  }
 },
 "nbformat": 4,
 "nbformat_minor": 5
}
