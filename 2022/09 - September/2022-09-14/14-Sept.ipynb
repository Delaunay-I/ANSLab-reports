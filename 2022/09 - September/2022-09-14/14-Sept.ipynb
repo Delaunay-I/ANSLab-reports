{
 "cells": [
  {
   "cell_type": "markdown",
   "id": "2b8b2bc9-85aa-49cd-b8e6-670362c028b0",
   "metadata": {},
   "source": [
    "# 2022-September-14"
   ]
  },
  {
   "cell_type": "markdown",
   "id": "b3c3cfc3-7cf6-4629-9473-a23d7e207038",
   "metadata": {},
   "source": [
    "I am looking at the ratios of the residuals to try to teach the coe to understand the slope of the residual history.\\\n",
    "I am using ratio of L2/L1, so the current vs a previous norm.\\\n",
    "In this manner, the lower this ratio is, the steepest the residual history is at that area."
   ]
  },
  {
   "cell_type": "markdown",
   "id": "93b5d3c8-f84c-4ad2-b5e2-7418acf4a709",
   "metadata": {},
   "source": [
    "## 1st added feature\n",
    "### Automating the iteration to apply the DMD overrelaxation\n",
    "I implemented this based on the slope of the residual.\\\n",
    "For this, I collected a deque of data with residual norms in it, and ran a linear regression on its log values. This gave me the slope of that section of the residual history.\\\n",
    "Then I compared these slopes with the last slope, if the ratio of the new_slope/old_slope becomes close to 1 (1 +-0.001) it activates the DMD."
   ]
  },
  {
   "cell_type": "code",
   "execution_count": 71,
   "id": "1d7f8298-ae25-4724-9454-c34754ce0cfd",
   "metadata": {},
   "outputs": [
    {
     "data": {
      "text/plain": [
       "True"
      ]
     },
     "execution_count": 71,
     "metadata": {},
     "output_type": "execute_result"
    }
   ],
   "source": [
    "4.47718e-15\t> 1e-15"
   ]
  },
  {
   "cell_type": "code",
   "execution_count": 74,
   "id": "effe32a8-f7c9-48bc-af88-ff248c2cc3d9",
   "metadata": {},
   "outputs": [
    {
     "data": {
      "text/plain": [
       "False"
      ]
     },
     "execution_count": 74,
     "metadata": {},
     "output_type": "execute_result"
    }
   ],
   "source": [
    "5.42112e-16\t> 1e-15"
   ]
  },
  {
   "cell_type": "code",
   "execution_count": null,
   "id": "cbaaccde-1369-4e09-b2b2-2a536777694f",
   "metadata": {},
   "outputs": [],
   "source": []
  }
 ],
 "metadata": {
  "kernelspec": {
   "display_name": "Python 3 (ipykernel)",
   "language": "python",
   "name": "python3"
  },
  "language_info": {
   "codemirror_mode": {
    "name": "ipython",
    "version": 3
   },
   "file_extension": ".py",
   "mimetype": "text/x-python",
   "name": "python",
   "nbconvert_exporter": "python",
   "pygments_lexer": "ipython3",
   "version": "3.10.6"
  }
 },
 "nbformat": 4,
 "nbformat_minor": 5
}
