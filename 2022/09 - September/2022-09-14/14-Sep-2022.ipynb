{
 "cells": [
  {
   "cell_type": "markdown",
   "id": "f754abc7-307b-402e-ab19-2bc0fe58e293",
   "metadata": {},
   "source": [
    "# 14-Spetember-2022"
   ]
  },
  {
   "cell_type": "markdown",
   "id": "94d7a4d0-0654-4f10-b83e-489f77f696d8",
   "metadata": {},
   "source": [
    "1. By doing the truncation, if we use odd and even numbers for the truncation, it would force the low-rank approxiamtion to have real eigenvalues or not. It is not like that after eigen decomposition, the result gives us 1 single complex number. The eigenvalues come in pair. So we don't have the ability to see if we get half a pair we should choose higher rank or lower.\n",
    "2. For SVD truncation, the singularvalues of the truncated matrix remains the same, but the eigenvalues change."
   ]
  },
  {
   "cell_type": "code",
   "execution_count": null,
   "id": "6f5e172e-8704-4cb1-975f-dad12a6db3c3",
   "metadata": {},
   "outputs": [],
   "source": []
  }
 ],
 "metadata": {
  "kernelspec": {
   "display_name": "Python 3 (ipykernel)",
   "language": "python",
   "name": "python3"
  },
  "language_info": {
   "codemirror_mode": {
    "name": "ipython",
    "version": 3
   },
   "file_extension": ".py",
   "mimetype": "text/x-python",
   "name": "python",
   "nbconvert_exporter": "python",
   "pygments_lexer": "ipython3",
   "version": "3.10.4"
  }
 },
 "nbformat": 4,
 "nbformat_minor": 5
}
