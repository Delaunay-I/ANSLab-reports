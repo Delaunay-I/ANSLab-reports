{
 "cells": [
  {
   "cell_type": "markdown",
   "id": "366e63c2-135e-4feb-8739-1b2429c4f089",
   "metadata": {},
   "source": [
    "# 2022-September-28"
   ]
  },
  {
   "cell_type": "markdown",
   "id": "13f75935-7aa4-4319-849c-d3414d2aa3b5",
   "metadata": {},
   "source": [
    "## Goals\n",
    "- Finding the reason why we cannot apply DMD over-relaxation as soon as residual history becomes stable (constant slope)\n",
    "- What's the difference between a good update and a bad update\n",
    "- Find a measure to compute the baseline frequency of oscillatory convergences\n",
    "    - Look into the relation of eigenvalues of Atilde to this oscillation, by first applying a dummy DMD analysis to get those eigenvalues"
   ]
  },
  {
   "cell_type": "markdown",
   "id": "25655726-7fa0-49ab-8120-5abfb0e217d4",
   "metadata": {
    "tags": []
   },
   "source": [
    "## 1. Finding the relation of eigenvalues Atilde to oscilation period\n",
    "In the DMD algorithm, we deal with an Atilde matrix (in the small space) that advances the dynamics of the data to the next time step. I do eigendecomposition on this Atilde matrix and find its eigenvalues. These eigenvalues are actually the amplification factors of the dominant modes in our solution updates. I used these amplification factors to extract the eigenvalues related to each mode, and computed the oscillation period of the time-dynamics of solution modes. \\\n",
    "- This will solve our challenge of finding a baseline for oscillation period we were facing for DMD automatization.\n",
    "- This way we won't be needing a baseline for the residual frequency to extrapolate other geometry sizes with different heights and width (for example for the cavity geometry). \n",
    "- By computing the eigenvalues related to the dominant mode, we can directly find a good approximation to the residual history of our problem. I say approximation, because we are using only the dominant mode's time-dynamics to find the oscillation period, and ignore the effect of other modes converence rate.\n",
    "THe table below shows the approximated oscillation periods I found using this method."
   ]
  },
  {
   "cell_type": "markdown",
   "id": "33914a45-a81c-4698-930c-cdec4ce3d64d",
   "metadata": {},
   "source": [
    "<style>\n",
    "\t.demo {\n",
    "\t\tborder:1px solid #C0C0C0;\n",
    "\t\tborder-collapse:collapse;\n",
    "\t\tpadding:5px;\n",
    "\t}\n",
    "\t.demo th {\n",
    "\t\tborder:1px solid #C0C0C0;\n",
    "\t\tpadding:5px;\n",
    "\t\tbackground:#F0F0F0;\n",
    "\t}\n",
    "\t.demo td {\n",
    "\t\tborder:1px solid #C0C0C0;\n",
    "\t\tpadding:5px;\n",
    "\t}\n",
    "</style>\n",
    "<table class=\"demo\">\n",
    "\t<caption>Table 1</caption>\n",
    "\t<thead>\n",
    "\t<tr>\n",
    "\t\t<th>width</th>\n",
    "\t\t<th>period - 1 mode (iter)<br></th>\n",
    "\t\t<th>period - using 2 modes<br></th>\n",
    "\t\t<th>iter for dummy DMD<br></th>\n",
    "\t</tr>\n",
    "\t</thead>\n",
    "\t<tbody>\n",
    "\t<tr>\n",
    "\t\t<td>&nbsp;1</td>\n",
    "\t\t<td>20</td>\n",
    "\t\t<td>&nbsp;</td>\n",
    "\t\t<td>&nbsp;120</td>\n",
    "\t</tr>\n",
    "\t<tr>\n",
    "\t\t<td>&nbsp;2</td>\n",
    "\t\t<td>&nbsp;41</td>\n",
    "\t\t<td>&nbsp;</td>\n",
    "\t\t<td>&nbsp;300</td>\n",
    "\t</tr>\n",
    "\t<tr>\n",
    "\t\t<td>&nbsp;3</td>\n",
    "\t\t<td>&nbsp;</td>\n",
    "\t\t<td>&nbsp;</td>\n",
    "\t\t<td>&nbsp;</td>\n",
    "\t</tr>\n",
    "\t<tr>\n",
    "\t\t<td>&nbsp;4</td>\n",
    "\t\t<td>&nbsp;82</td>\n",
    "\t\t<td>&nbsp;</td>\n",
    "\t\t<td>&nbsp;</td>\n",
    "\t</tr>\n",
    "\t<tr>\n",
    "\t\t<td>&nbsp;5</td>\n",
    "\t\t<td>102 - 104</td>\n",
    "\t\t<td>&nbsp;</td>\n",
    "\t\t<td>400- 750</td>\n",
    "\t</tr>\n",
    "\t<tr>\n",
    "\t\t<td>&nbsp;6</td>\n",
    "\t\t<td>&nbsp;</td>\n",
    "\t\t<td>&nbsp;</td>\n",
    "\t\t<td>&nbsp;</td>\n",
    "\t</tr>\n",
    "\t<tr>\n",
    "\t\t<td>&nbsp;7</td>\n",
    "\t\t<td>&nbsp;</td>\n",
    "\t\t<td>&nbsp;</td>\n",
    "\t\t<td>&nbsp;</td>\n",
    "\t</tr>\n",
    "\t<tr>\n",
    "\t\t<td>&nbsp;8</td>\n",
    "\t\t<td>&nbsp;</td>\n",
    "\t\t<td>&nbsp;</td>\n",
    "\t\t<td>&nbsp;</td>\n",
    "\t</tr>\n",
    "\t<tr>\n",
    "\t\t<td>&nbsp;9</td>\n",
    "\t\t<td>&nbsp;</td>\n",
    "\t\t<td>&nbsp;</td>\n",
    "\t\t<td>&nbsp;</td>\n",
    "\t</tr>\n",
    "\t<tr>\n",
    "\t\t<td>&nbsp;10</td>\n",
    "\t\t<td>&nbsp;</td>\n",
    "\t\t<td>&nbsp;</td>\n",
    "\t\t<td>&nbsp;</td>\n",
    "\t</tr>\n",
    "\t<tbody>\n",
    "</table>"
   ]
  },
  {
   "cell_type": "markdown",
   "id": "897288db-db3f-41a0-aa6c-77b16afd50bd",
   "metadata": {},
   "source": [
    "### 1.1. Challenges of this method\n",
    "One challenge is that we still need to guess what iteration to do a dummy DMD, and find the oscillation period. Because if we do this analysis too early, we would get an oscillation period which is transient and would change after some iterations. (we get the oscillation period of some transient mode rather than the slowest converging mode that we are interested)\n"
   ]
  },
  {
   "cell_type": "code",
   "execution_count": null,
   "id": "57367207-f6c5-4739-b198-57b0124774f1",
   "metadata": {},
   "outputs": [],
   "source": []
  }
 ],
 "metadata": {
  "kernelspec": {
   "display_name": "Python 3 (ipykernel)",
   "language": "python",
   "name": "python3"
  },
  "language_info": {
   "codemirror_mode": {
    "name": "ipython",
    "version": 3
   },
   "file_extension": ".py",
   "mimetype": "text/x-python",
   "name": "python",
   "nbconvert_exporter": "python",
   "pygments_lexer": "ipython3",
   "version": "3.10.4"
  }
 },
 "nbformat": 4,
 "nbformat_minor": 5
}
