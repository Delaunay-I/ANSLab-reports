{
 "cells": [
  {
   "cell_type": "markdown",
   "id": "366e63c2-135e-4feb-8739-1b2429c4f089",
   "metadata": {},
   "source": [
    "# 2022-September-28"
   ]
  },
  {
   "cell_type": "markdown",
   "id": "13f75935-7aa4-4319-849c-d3414d2aa3b5",
   "metadata": {},
   "source": [
    "## Goals\n",
    "- Finding the reason why we cannot apply DMD over-relaxation as soon as residual history becomes stable (constant slope)\n",
    "- What's the difference between a good update and a bad update\n",
    "- Find a measure to compute the baseline frequency of oscillatory convergences\n",
    "    - Look into the relation of eigenvalues of Atilde to this oscillation, by first applying a dummy DMD analysis to get those eigenvalues"
   ]
  },
  {
   "cell_type": "code",
   "execution_count": null,
   "id": "09f3f713-7d95-42a7-a585-636c139844d8",
   "metadata": {},
   "outputs": [],
   "source": []
  }
 ],
 "metadata": {
  "kernelspec": {
   "display_name": "Python 3 (ipykernel)",
   "language": "python",
   "name": "python3"
  },
  "language_info": {
   "codemirror_mode": {
    "name": "ipython",
    "version": 3
   },
   "file_extension": ".py",
   "mimetype": "text/x-python",
   "name": "python",
   "nbconvert_exporter": "python",
   "pygments_lexer": "ipython3",
   "version": "3.8.10"
  }
 },
 "nbformat": 4,
 "nbformat_minor": 5
}
