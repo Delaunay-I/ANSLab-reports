{
 "cells": [
  {
   "cell_type": "markdown",
   "id": "a31ccc74-825f-4ec6-9fda-71f321167315",
   "metadata": {},
   "source": [
    "# 2022-September-21"
   ]
  },
  {
   "cell_type": "code",
   "execution_count": 47,
   "id": "bc785b3a-1ec9-4fae-bf18-86bbcb8ab349",
   "metadata": {},
   "outputs": [],
   "source": [
    "from IPython.display import HTML, display, Image\n",
    "import pandas as pd"
   ]
  },
  {
   "cell_type": "markdown",
   "id": "b4e89c83-5b75-4122-bc01-3090563ef53c",
   "metadata": {},
   "source": [
    "For a cavity with different widths, the oscillation period changes: (all have constant height of 2.5)\n",
    "<table>\n",
    "  <tr>\n",
    "    <th>Width</th>\n",
    "    <th>Oscillation period</th>\n",
    "    <th>Oscillation type</th>\n",
    "  </tr>\n",
    "  <tr>\n",
    "    <td>1.0</td>\n",
    "    <td>27</td>\n",
    " </tr>\n",
    "  <tr>\n",
    "    <td>2.0</td>\n",
    "    <td>50</td>\n",
    "  </tr>\n",
    "  <tr>\n",
    "    <td>3.0</td>\n",
    "    <td>40 to 55</td>\n",
    "  </tr>\n",
    "      <tr>\n",
    "    <td>4.0</td>\n",
    "    <td>160</td>\n",
    "  </tr>\n",
    "    <tr>\n",
    "    <td>6.0</td>\n",
    "    <td>beginning: 192, end: 129</td>\n",
    "  </tr>\n",
    "    <tr>\n",
    "    <td>10.0</td>\n",
    "    <td>403</td>\n",
    "  </tr>\n",
    "</table> "
   ]
  },
  {
   "cell_type": "markdown",
   "id": "4b624e6d-c4e8-43d9-8534-f0ca59437ff4",
   "metadata": {},
   "source": [
    "<font size=\"+0.5\">The plots below (Figure 1) are for a lid-driven cavity geometry with constant <strong>height of 1</strong>. As can be seen in the left figure, the oscillations change as we change the width of the cavity geometry.</font>"
   ]
  },
  {
   "cell_type": "code",
   "execution_count": 63,
   "id": "edfd4a76-06f7-4f94-94bf-9812cea2caa8",
   "metadata": {
    "jupyter": {
     "source_hidden": true
    },
    "tags": []
   },
   "outputs": [
    {
     "data": {
      "text/html": [
       "<table><tr><td><img src='NavierH1.png'></td><td><img src='NavierW10H10Seg2*220.png'></td></tr></table>"
      ],
      "text/plain": [
       "<IPython.core.display.HTML object>"
      ]
     },
     "metadata": {},
     "output_type": "display_data"
    }
   ],
   "source": [
    "Image(\"NavierH1.png\", width=700)\n",
    "display(HTML(\"<table><tr><td><img src='NavierH1.png'></td><td><img src='NavierW10H10Seg2*220.png'></td></tr></table>\"))"
   ]
  },
  {
   "cell_type": "markdown",
   "id": "05ed3952-7f57-40d1-a290-2f4c732758b1",
   "metadata": {},
   "source": [
    "<font size=\"+1\">*FIGURE 1: **Left:** Constant height, different widths. **Right:** cavity for width 10 and Height 10, with a update applied automatically. (using $2\\times 220$ residual points for our regression)*</font>"
   ]
  },
  {
   "cell_type": "markdown",
   "id": "5cbc73f9-aad9-4ab5-9186-25324bd67a67",
   "metadata": {},
   "source": [
    "<font size=\"+0.5\">The 6th column shows the result for testing a few segment sizes. It provides info on:\n",
    "- The segment size used to do regression on\n",
    "- The first iter that this creteria activates DMD\n",
    "- Number of DMD activation of this segment size\n",
    "    \n",
    "</font>\n",
    "\n",
    "<font size=\"+0.5\">\n",
    "    \n",
    "Seg ratio is the ratio of the current size to the previous one.\\\n",
    "Oscillation ratio is basically the ratio of the preferred segment size of the current eow to the last row. But mostly I just took the ratio of the oscillation periods.\\\n",
    "For the first oscillation ratio, I used the ratio of the preferred seg sizes, becuase for the case of 1st row, $2\\times17$ is a small segment to do regression on, so taking just oscillation ratios isn't informative.\n",
    "</font>\n"
   ]
  },
  {
   "cell_type": "markdown",
   "id": "7aa3d32f-b5a3-4add-aa09-5d6bb35139b0",
   "metadata": {},
   "source": [
    "\n",
    "<table>\n",
    "  <tr>\n",
    "    <th>Width</th>    <th>Oscillation period</th>  <td>Oscilation ratio</td>  <th>manual prefered iter for DMD</th> <td>Preferred seg size</td> \n",
    "      <th>(segment size, 1st activation iter, num activation)</th>\n",
    "  </tr>\n",
    "  <tr>\n",
    "    <td>1.0</td>   <td>17</td>   <td>-</td>   <td>200</td>   <td>3*17</td> <td>(2*17, 170, 2)(3*17, 306, 3)</td>\n",
    " </tr>\n",
    "  <tr>\n",
    "    <td>2.0</td>   <td>42</td> <td>1.647</td>  <td>400</td>  <td>2*42</td>  <td>(2*42, 504, 2) (3*42, 630, 2)  (4*42, 672, 1)  (5*42, 840, 1) </td>\n",
    "  </tr>\n",
    "  <tr>\n",
    "    <td>3.0</td>   <td>62</td> <td>1.48</td>  <td>400</td>  <td>3*62</td>   <td>(3*62, 744, 2) (2*62, 2nd update not accurate)</td>\n",
    "  </tr>\n",
    "  <tr>\n",
    "    <td>4.0</td>   <td>84</td> <td>1.35</td>   <td>500</td>    <td>2*84</td>  <td>(2*84, 672) --  (3*84, 756)</td> <td>note:size 100 NotWorking  </td>\n",
    "  </tr>\n",
    "    <tr>\n",
    "    <td>5.0</td>   <td>105</td>   <td>1.25</td>   <td>600</td>   <td>2*105</td>    <td>(2*105, 840, 2) (3*105, 945, 2)</td>\n",
    "  </tr>\n",
    "    <tr>\n",
    "    <td>6.0</td>  <td>124</td>   <td>1.18</td> <td></td>  <td>2*124</td>    <td>(2*124, 744, 2 (2nd one not very good))  (3*124, 1116, 1) </td>\n",
    "  </tr>\n",
    "    <tr>\n",
    "    <td>7.0</td>  <td>149</td>  <td>1.2</td>   <td></td>  <td>2*149</td>  <td>(2*149, 894, 2) (3*149, 1341, 1) </td>\n",
    "  </tr>\n",
    "   <tr>\n",
    "       <td>8.0</td>   <td>172</td> <td>1.154</td>  <td></td>   <td>2*172</td>   <td>(2*172, 1032, 2)  (3*172, 1548, 1)</td>\n",
    "    </tr> \n",
    "    <tr>\n",
    "    <td>9.0</td>   <td>195</td>   <td>1.134</td>  <td></td>   <td>2*195</td>    <td>(2*195, 1170, 2)  (3*195, 1755, 1)</td>\n",
    "  </tr>\n",
    "    <tr>\n",
    "    <td>10.0</td>   <td>220</td>    <td>1.128</td>    <td></td>   <td>2*220</td>   <td>(2*220, 1320, 1) (3*220, 1980, 1)</td>\n",
    "  </tr>\n",
    "</table> "
   ]
  },
  {
   "cell_type": "markdown",
   "id": "ff671f39-b2d2-48c9-a395-4f4711c3a946",
   "metadata": {},
   "source": [
    "In the table above, what we have before running the program is the geometry size, hence the width. So we should look for a relation between **width** and change in the **oscillation period**, or *width* and the *oscillation ratio*.\n",
    "- For the smaller widths with shorter oscillation period (high frequency), it is safer to use larger residual segments for our regression. Hence, in the table above, we prefer to use higher multipliers to chooses the segment size.\n",
    "- For the cases with lower frequency, using high multipliers such as 3 and 4 ($3 \\times period$ or $4\\times period$) might not activate DMD even once. So for these cases we prefer using a multiplier not greater than 2 (even smaller than $2 \\times {oscillation period}$)\n",
    "\n",
    "<strong>Of course, using a larger segment gives us a more confidence on when to apply the update, but we might also delay this DMD correction and its benefits.</strong>\n",
    "\n",
    "- By looking at width and oscillation period, we can come into conclusion that **width** and **oscillation period** have a linear relationship. **So  we can use that to set the size of our residual segment (that we use for regression)**\n"
   ]
  },
  {
   "cell_type": "markdown",
   "id": "af6c4f01-d033-4f38-b83f-b634b5a1df90",
   "metadata": {},
   "source": []
  },
  {
   "cell_type": "code",
   "execution_count": null,
   "id": "8db5dbb3-d857-4152-ae48-086781156da3",
   "metadata": {},
   "outputs": [],
   "source": []
  }
 ],
 "metadata": {
  "kernelspec": {
   "display_name": "Python 3 (ipykernel)",
   "language": "python",
   "name": "python3"
  },
  "language_info": {
   "codemirror_mode": {
    "name": "ipython",
    "version": 3
   },
   "file_extension": ".py",
   "mimetype": "text/x-python",
   "name": "python",
   "nbconvert_exporter": "python",
   "pygments_lexer": "ipython3",
   "version": "3.8.10"
  }
 },
 "nbformat": 4,
 "nbformat_minor": 5
}
