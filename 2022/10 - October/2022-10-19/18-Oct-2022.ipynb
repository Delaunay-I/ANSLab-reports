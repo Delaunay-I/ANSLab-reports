{
 "cells": [
  {
   "cell_type": "markdown",
   "id": "648a84d2-0e1f-430f-8997-8f6ebd9775ed",
   "metadata": {},
   "source": [
    "# 18-Oct-2022"
   ]
  },
  {
   "cell_type": "markdown",
   "id": "762f3468-2f82-4e82-99fe-14ad582f72cf",
   "metadata": {},
   "source": [
    "## Summary of Goals\n",
    "1. Computing the norm of the error in the update (error introduced by the SVD truncation and approximation of the DMD algorithm)\n",
    "2. "
   ]
  },
  {
   "cell_type": "markdown",
   "id": "8e900d63-25d7-4678-8a79-718099bfeb90",
   "metadata": {},
   "source": [
    "## 1. Uncertainty in our update\n",
    "I think there are 3 error norms that we can compute:\n",
    "1. Error of DMD approximation of the non-linear dynamics\n",
    "    * This doesn't tell us about the error introduced by the SVD approximation\n",
    "2. Computing the error by projecting the X and X' matrices onto X's POD modes\n",
    "    * the error is smaller t\n",
    "3. Computing the error by projecting Atilde back ionto the full-dimensional space\n",
    "    * A little computationally expensive"
   ]
  },
  {
   "cell_type": "code",
   "execution_count": null,
   "id": "d2fdabde-edb9-4350-973e-205eeb3d0518",
   "metadata": {},
   "outputs": [],
   "source": [
    "# A = X2@V@np.linalg.inv(S_matrix)@U.T\n",
    "# diff = X2 - A@X1\n",
    "# np.linalg.norm(diff, 'fro')\n",
    "\n",
    "# diff = X2 - Ur@Atilde@Ur.T@X1\n",
    "# np.linalg.norm(diff, 'fro')\n",
    "\n",
    "# diff = Ur.T@X2 - Atilde@(Ur.T@X1)\n",
    "# np.linalg.norm(diff, 'fro')"
   ]
  },
  {
   "cell_type": "code",
   "execution_count": null,
   "id": "cf67b8ed-717b-481c-8e54-a89107c429c3",
   "metadata": {},
   "outputs": [],
   "source": []
  }
 ],
 "metadata": {
  "kernelspec": {
   "display_name": "Python 3 (ipykernel)",
   "language": "python",
   "name": "python3"
  },
  "language_info": {
   "codemirror_mode": {
    "name": "ipython",
    "version": 3
   },
   "file_extension": ".py",
   "mimetype": "text/x-python",
   "name": "python",
   "nbconvert_exporter": "python",
   "pygments_lexer": "ipython3",
   "version": "3.8.10"
  }
 },
 "nbformat": 4,
 "nbformat_minor": 5
}
