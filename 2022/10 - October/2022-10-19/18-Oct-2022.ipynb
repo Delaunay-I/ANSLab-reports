{
 "cells": [
  {
   "cell_type": "markdown",
   "id": "648a84d2-0e1f-430f-8997-8f6ebd9775ed",
   "metadata": {},
   "source": [
    "# 18-Oct-2022"
   ]
  },
  {
   "cell_type": "code",
   "execution_count": 3,
   "id": "fe5bdf81",
   "metadata": {},
   "outputs": [],
   "source": [
    "import matplotlib.pyplot as plt\n",
    "import numpy as np\n",
    "import pandas as pd\n",
    "from IPython.display import Image, HTML, display"
   ]
  },
  {
   "cell_type": "markdown",
   "id": "762f3468-2f82-4e82-99fe-14ad582f72cf",
   "metadata": {},
   "source": [
    "## Summary of Goals\n",
    "1. Some details of DMD from the literature\n",
    "2. Computing the norm of the error in the update (error introduced by the SVD truncation and approximation of the DMD algorithm)\n",
    "3. Added timing to code, and fixed an algorithm bug in the matrix multiplication"
   ]
  },
  {
   "cell_type": "markdown",
   "id": "cc754b5b",
   "metadata": {},
   "source": [
    "## 1. DMD in the literature\n",
    "### 1.1 Limitations of DMD\n",
    "SVD-based approaches are inefficient to handle invariance in the data\n",
    "examples:\n",
    "1. Translational and rotational invariances ==> DMD predicts a artificially high dimensional space for modes<br><br>\n",
    " <img src=\"DMDLimits_translational.png\" width=800 alt=\"DMD limits for added translation\"><br><br>\n",
    " It can be seen from the picture below that although we have 2 physical modes, DMD suggests using at least 10 modes.<br><br>\n",
    "   <img src=\"DMDLimits_translational_numModes.png\" width=800 alt=\"DMD limits for added translation - number of modes\">\n",
    "\n",
    "\n",
    "\n",
    "2. Transient time behaviour ==> DMD fails. <br>Example is a mode that turns on and off."
   ]
  },
  {
   "cell_type": "markdown",
   "id": "8e900d63-25d7-4678-8a79-718099bfeb90",
   "metadata": {},
   "source": [
    "## 2. Uncertainty in our update\n",
    "I think there are 3 error norms that we can compute:\n",
    "1. Computing norm by computing the full-dimensional evolution A\n",
    "    * This doesn't tell us about the error introduced by the SVD approximation\n",
    "    <pre><code>A = X2@V@np.linalg.inv(S_matrix)@U.T\n",
    "   diff = X2 - A@X1\n",
    "   np.linalg.norm(diff, 'fro')</code></pre>\n",
    "\n",
    "2. Computing the error by projecting Atilde back onto the full-dimensional space\n",
    "    * computationally expensive\n",
    "    <pre><code>diff = X2 - Ur@Atilde@Ur.T@X1\n",
    "   np.linalg.norm(diff, 'fro')</code></pre>\n",
    "\n",
    "\n",
    "3. Computing the error by projecting the X and X' matrices onto X's POD modes\n",
    "    * the error is smaller than the <strong>2nd</strong> method\n",
    "    <pre><code>diff = Ur.T@X2 - Atilde@(Ur.T@X1)\n",
    "   np.linalg.norm(diff, 'fro')</code></pre>\n",
    "    "
   ]
  },
  {
   "cell_type": "markdown",
   "id": "8514e68e",
   "metadata": {},
   "source": [
    "The plots below shows the Frobenius norm for method 3 above."
   ]
  },
  {
   "cell_type": "code",
   "execution_count": 17,
   "id": "ca02c366",
   "metadata": {},
   "outputs": [
    {
     "data": {
      "text/html": [
       "<table><tr><td><img src='NavStrW5H1S10UpdateNorms.png' width=650></td><td><img src='PoissonS10UpdateNorms.png' width=700></td></tr></table>"
      ],
      "text/plain": [
       "<IPython.core.display.HTML object>"
      ]
     },
     "metadata": {},
     "output_type": "display_data"
    }
   ],
   "source": [
    "display(HTML(\"<table><tr><td><img src='NavStrW5H1S10UpdateNorms.png' width=650></td><td><img src='PoissonS10UpdateNorms.png' width=700></td></tr></table>\"))"
   ]
  },
  {
   "cell_type": "markdown",
   "id": "25736460",
   "metadata": {},
   "source": [
    "From the plots above, we can see that for larger iterations we get a smaller norm for the DMD update."
   ]
  },
  {
   "cell_type": "code",
   "execution_count": 18,
   "id": "58f4a970",
   "metadata": {},
   "outputs": [
    {
     "data": {
      "text/html": [
       "<table><tr><td><img src='NavStrW5H1S10MultiUpdateNorms.png' width=650></td><td><img src='PoissonMultiupdateupdateNorms.png' width=700></td></tr></table>"
      ],
      "text/plain": [
       "<IPython.core.display.HTML object>"
      ]
     },
     "metadata": {},
     "output_type": "display_data"
    }
   ],
   "source": [
    "display(HTML(\"<table><tr><td><img src='NavStrW5H1S10MultiUpdateNorms.png' width=650></td><td><img src='PoissonMultiupdateupdateNorms.png' width=700></td></tr></table>\"))"
   ]
  },
  {
   "cell_type": "markdown",
   "id": "2634a659",
   "metadata": {},
   "source": [
    "As can be seen from the figures above, when we have multiple updates, the 2nd update has a smaller norm although it might not be as effective.<br>\n",
    "This inconsisstency makes it harder for us to use this norm to measure effectiveness (uncertainty) of our correction."
   ]
  },
  {
   "cell_type": "markdown",
   "id": "d3162dba",
   "metadata": {},
   "source": [
    "## 3. Code timings: Matrix chain multiplication\n",
    "Based on the timings, computing matrix multiplications took the longest time. This was resolved by solving a matrix chain ordering problem.<br>\n",
    "Before, the order of operations was:\n",
    "$$ G = U_r \\tilde{G} U_r^{\\intercal} $$\n",
    "$$ update = G \\mathbf{x}^\\prime_{m-1} $$\n",
    "<span style=\"color: #0e6655 \">The order for this multiplication: $O(nr^2) + O(n^2 r) + O(n^2)$ </span><br>\n",
    "I chnaged it with: \n",
    "$$ \\mathbf{\\tilde{x}}^\\prime_{m-1} = U_r^{\\intercal} \\mathbf{x}^\\prime_{m-1} $$\n",
    "$$ update = U_r^{\\intercal} \\tilde{G} \\mathbf{\\tilde{x}}^\\prime_{m-1} $$\n",
    "\n",
    "<span style=\"color:  #0e6655 ;\">The order for this multiplication: $ O(rn) + O(nr^2) + O(nr) $</span><br>\n",
    "This reduced the matrix multiplication time from, for example: (result from Python)\n",
    "- $ 0.99737 s$ to $0.10016 s$ "
   ]
  },
  {
   "cell_type": "markdown",
   "id": "3a1f9210",
   "metadata": {},
   "source": []
  }
 ],
 "metadata": {
  "kernelspec": {
   "display_name": "Python 3.10.7 64-bit",
   "language": "python",
   "name": "python3"
  },
  "language_info": {
   "codemirror_mode": {
    "name": "ipython",
    "version": 3
   },
   "file_extension": ".py",
   "mimetype": "text/x-python",
   "name": "python",
   "nbconvert_exporter": "python",
   "pygments_lexer": "ipython3",
   "version": "3.10.7"
  },
  "vscode": {
   "interpreter": {
    "hash": "5b7c61eb1d98124d2e6ed42ed2c0940dfdc8c685290a92f24f9009bebd4a70d4"
   }
  }
 },
 "nbformat": 4,
 "nbformat_minor": 5
}
