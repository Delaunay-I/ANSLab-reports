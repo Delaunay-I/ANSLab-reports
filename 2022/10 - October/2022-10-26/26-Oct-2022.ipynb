{
 "cells": [
  {
   "cell_type": "markdown",
   "id": "d0d1f515-dd00-43f5-bd5c-48c4b77b8749",
   "metadata": {},
   "source": [
    "# 26-Oct-2022"
   ]
  },
  {
   "cell_type": "code",
   "execution_count": 27,
   "id": "0efd99dc",
   "metadata": {},
   "outputs": [],
   "source": [
    "import matplotlib.pyplot as plt\n",
    "import numpy as np\n",
    "import pandas as pd\n",
    "from IPython.display import Image, HTML, display"
   ]
  },
  {
   "cell_type": "markdown",
   "id": "15652584-3e5b-4251-b2c6-5bc636359a65",
   "metadata": {},
   "source": [
    "## Summary of results\n",
    "1. optimized data collection part and splitting data\n",
    "2. Used a normalized norm to compute the error of our DMD update\n",
    "3. Investigated different frequencies for data collection and its effect on the error norm"
   ]
  },
  {
   "cell_type": "markdown",
   "id": "1fb78423",
   "metadata": {},
   "source": [
    "## 1. Code optimization by changing the snapshot matrix to row-major\n",
    "Done, and reduced the execution time of data handling part by 10 folds."
   ]
  },
  {
   "cell_type": "markdown",
   "id": "a2d675a0-e01e-4436-acfd-0e638e8fa10b",
   "metadata": {},
   "source": [
    "## 2. Update norms\n"
   ]
  },
  {
   "cell_type": "markdown",
   "id": "e65b25fe",
   "metadata": {},
   "source": [
    "In the hope of getting error norms that can be compared with each other I normalized the Frobenius norm by the residual norm at that iteration. The figures below show some test cases, comparing the error norms."
   ]
  },
  {
   "cell_type": "code",
   "execution_count": 30,
   "id": "82e6986e",
   "metadata": {},
   "outputs": [
    {
     "data": {
      "text/html": [
       "<table><tr><td><img src='NavStr_updateNorms_singleUpdate.png' width=550></td><td><img src='NavStr_updateNorms_multiUpdate.png' width=550></td></tr>"
      ],
      "text/plain": [
       "<IPython.core.display.HTML object>"
      ]
     },
     "metadata": {},
     "output_type": "display_data"
    }
   ],
   "source": [
    "display(HTML(\"<table><tr><td><img src='NavStr_updateNorms_singleUpdate.png' width=550></td><td><img src='NavStr_updateNorms_multiUpdate.png' width=550></td></tr>\"))"
   ]
  },
  {
   "cell_type": "markdown",
   "id": "7fefce6d",
   "metadata": {},
   "source": [
    "The figures above show the normalized error norm of our DMD approximation.<br>\n",
    "In the left figure, we can see some consistency in the error norms. An update at iteration 100 has a higher norm compared to others. But an update at iteration 2200 has the same norm as update at iteration 350, although the former has much higher effectiveness in eliminating the correct modes.<br>\n",
    "In the right figure we can see a similar results where the second updates have similar norms but their effectiveness are different."
   ]
  },
  {
   "cell_type": "code",
   "execution_count": 29,
   "id": "a182354e",
   "metadata": {},
   "outputs": [
    {
     "data": {
      "text/html": [
       "<table><tr><td><img src='Poisson_norms_diffmodes_singleupdate.png' width=500></td><td><img src='normsChangeRate.png' width=600></td></tr>"
      ],
      "text/plain": [
       "<IPython.core.display.HTML object>"
      ]
     },
     "metadata": {},
     "output_type": "display_data"
    }
   ],
   "source": [
    "display(HTML(\"<table><tr><td><img src='Poisson_norms_diffmodes_singleupdate.png' width=500></td><td><img src='normsChangeRate.png' width=600></td></tr>\"))"
   ]
  },
  {
   "cell_type": "markdown",
   "id": "ccc05d8a",
   "metadata": {},
   "source": [
    "The Figure on the left shows the Poisson problem on an unstructured mesh. In this test case, as we eliminate more modes the error norm decreases but using more than 5 modes is not useful. In this figure we can see that using 6 modes is not as effective as 5 modes, although we get a smaller norm.<br>\n",
    "However from the figure on the right, we can see that after 6 modes the norm does not change much, telling us that we can't get a better approximation by using more modes.<br>\n",
    "\n",
    "From the finding of this section, we can say this norm is not a consistent metric to use for calculating the uncertainty for our DMD updates."
   ]
  },
  {
   "cell_type": "code",
   "execution_count": null,
   "id": "5455a73c",
   "metadata": {},
   "outputs": [],
   "source": []
  }
 ],
 "metadata": {
  "kernelspec": {
   "display_name": "Python 3.10.7 64-bit",
   "language": "python",
   "name": "python3"
  },
  "language_info": {
   "codemirror_mode": {
    "name": "ipython",
    "version": 3
   },
   "file_extension": ".py",
   "mimetype": "text/x-python",
   "name": "python",
   "nbconvert_exporter": "python",
   "pygments_lexer": "ipython3",
   "version": "3.10.7"
  },
  "vscode": {
   "interpreter": {
    "hash": "5b7c61eb1d98124d2e6ed42ed2c0940dfdc8c685290a92f24f9009bebd4a70d4"
   }
  }
 },
 "nbformat": 4,
 "nbformat_minor": 5
}
