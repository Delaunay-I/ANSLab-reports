{
 "cells": [
  {
   "cell_type": "markdown",
   "id": "d0d1f515-dd00-43f5-bd5c-48c4b77b8749",
   "metadata": {},
   "source": [
    "# 26-Oct-2022"
   ]
  },
  {
   "cell_type": "markdown",
   "id": "15652584-3e5b-4251-b2c6-5bc636359a65",
   "metadata": {},
   "source": [
    "## Summary of results\n",
    "1. optimized data collection part and splitting data\n",
    "2. Used a normalized norm to compute the error of our DMD update\n",
    "3. Investigated different frequencies for data collection and its effect on the error norm"
   ]
  },
  {
   "cell_type": "markdown",
   "id": "a2d675a0-e01e-4436-acfd-0e638e8fa10b",
   "metadata": {},
   "source": [
    "updated norm and matrix multiplication for DMD update correspondingly\n",
    "- changed some printout formats for timings"
   ]
  },
  {
   "cell_type": "code",
   "execution_count": null,
   "id": "74219993-dff5-4a3f-83a7-32c3ddbf410f",
   "metadata": {},
   "outputs": [],
   "source": []
  }
 ],
 "metadata": {
  "kernelspec": {
   "display_name": "Python 3 (ipykernel)",
   "language": "python",
   "name": "python3"
  },
  "language_info": {
   "codemirror_mode": {
    "name": "ipython",
    "version": 3
   },
   "file_extension": ".py",
   "mimetype": "text/x-python",
   "name": "python",
   "nbconvert_exporter": "python",
   "pygments_lexer": "ipython3",
   "version": "3.8.10"
  }
 },
 "nbformat": 4,
 "nbformat_minor": 5
}
