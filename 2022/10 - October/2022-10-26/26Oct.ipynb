{
 "cells": [
  {
   "cell_type": "markdown",
   "id": "10e7fd47-efff-43ff-be4f-2dbeb2223b47",
   "metadata": {},
   "source": [
    "# 26-Oct-2022"
   ]
  },
  {
   "cell_type": "code",
   "execution_count": 1,
   "id": "f00bf640-698b-44f9-b44f-16a2eb5d7dac",
   "metadata": {},
   "outputs": [],
   "source": [
    "import matplotlib.pyplot as plt\n",
    "import numpy as np\n",
    "import pandas as pd\n",
    "from IPython.display import Image, HTML, display"
   ]
  },
  {
   "cell_type": "markdown",
   "id": "97413685-cbc1-496c-b8e2-31a893d56681",
   "metadata": {},
   "source": [
    "## Summary of results\n",
    "1. optimized data collection part and splitting data\n",
    "2. Used a normalized norm to compute the error of our DMD update\n",
    "3. Investigated different frequencies for data collection and its effect on the error norm"
   ]
  },
  {
   "cell_type": "markdown",
   "id": "54214ca1-9167-414d-ac9b-2837aa12a5d0",
   "metadata": {},
   "source": [
    "## 1. Code optimization by changing the snapshot matrix to row-major\n",
    "Done, and reduced the execution time of data handling part by 10 folds."
   ]
  },
  {
   "cell_type": "markdown",
   "id": "2724708a-0218-4c87-90e2-7e93b39ea3c8",
   "metadata": {},
   "source": [
    "## 2. Update norms\n",
    "In the hope of getting error norms that can be compared with each other I normalized the Frobenius norm by the residual norm at that iteration. The figures below show some test cases, comparing the error norms."
   ]
  },
  {
   "cell_type": "code",
   "execution_count": 2,
   "id": "ce6b2af6-bb34-41f4-a28e-252e4ad67eee",
   "metadata": {},
   "outputs": [
    {
     "data": {
      "text/html": [
       "<table><tr><td><img src='NavStr_updateNorms_singleUpdate.png' width=550></td><td><img src='NavStr_updateNorms_multiUpdate.png' width=550></td></tr>"
      ],
      "text/plain": [
       "<IPython.core.display.HTML object>"
      ]
     },
     "metadata": {},
     "output_type": "display_data"
    }
   ],
   "source": [
    "display(HTML(\"<table><tr><td><img src='NavStr_updateNorms_singleUpdate.png' width=550></td><td><img src='NavStr_updateNorms_multiUpdate.png' width=550></td></tr>\"))"
   ]
  },
  {
   "cell_type": "markdown",
   "id": "fdfd8b8f-017a-4480-9a9e-9c693d6aade2",
   "metadata": {},
   "source": [
    "The figures above show the normalized error norm of our DMD approximation.<br>\n",
    "In the left figure, we can see some consistency in the error norms. An update at iteration 100 has a higher norm compared to others. But an update at iteration 2200 has the same norm as update at iteration 350, although the former has much higher effectiveness in eliminating the correct modes.<br>\n",
    "In the right figure we can see a similar results where the second updates have similar norms but their effectiveness are different."
   ]
  },
  {
   "cell_type": "code",
   "execution_count": 3,
   "id": "42cd85b1-b7a9-47c9-adb6-8e801b69e9dd",
   "metadata": {},
   "outputs": [
    {
     "data": {
      "text/html": [
       "<table><tr><td><img src='Poisson_norms_diffmodes_singleupdate.png' width=500></td><td><img src='normsChangeRate.png' width=600></td></tr>"
      ],
      "text/plain": [
       "<IPython.core.display.HTML object>"
      ]
     },
     "metadata": {},
     "output_type": "display_data"
    }
   ],
   "source": [
    "display(HTML(\"<table><tr><td><img src='Poisson_norms_diffmodes_singleupdate.png' width=500></td><td><img src='normsChangeRate.png' width=600></td></tr>\"))"
   ]
  },
  {
   "cell_type": "markdown",
   "id": "12dba482-03be-40db-9dd6-134afcdb8e79",
   "metadata": {},
   "source": [
    "The Figure on the left shows the Poisson problem on an unstructured mesh. In this test case, as we eliminate more modes the error norm decreases but using more than 5 modes is not useful. In this figure we can see that using 6 modes is not as effective as 5 modes, although we get a smaller norm.<br>\n",
    "However from the figure on the right, we can see that after 6 modes the norm does not change much, telling us that we can't get a better approximation by using more modes.<br>\n",
    "\n",
    "From the finding of this section, we can say this norm is not a consistent metric to use for calculating the uncertainty for our DMD updates."
   ]
  },
  {
   "cell_type": "markdown",
   "id": "11966da7-ed95-42a7-bc2b-fb31a6b05fae",
   "metadata": {},
   "source": [
    "## 3. Different frequency for data collection"
   ]
  },
  {
   "cell_type": "code",
   "execution_count": null,
   "id": "d0948a94-a649-4d2e-ada0-f54ef822e535",
   "metadata": {},
   "outputs": [],
   "source": []
  }
 ],
 "metadata": {
  "kernelspec": {
   "display_name": "Python 3 (ipykernel)",
   "language": "python",
   "name": "python3"
  },
  "language_info": {
   "codemirror_mode": {
    "name": "ipython",
    "version": 3
   },
   "file_extension": ".py",
   "mimetype": "text/x-python",
   "name": "python",
   "nbconvert_exporter": "python",
   "pygments_lexer": "ipython3",
   "version": "3.8.10"
  }
 },
 "nbformat": 4,
 "nbformat_minor": 5
}
