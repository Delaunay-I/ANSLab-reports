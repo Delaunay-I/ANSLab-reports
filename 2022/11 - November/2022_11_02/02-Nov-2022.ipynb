{
 "cells": [
  {
   "cell_type": "markdown",
   "metadata": {},
   "source": [
    "# 02-Nov-2022"
   ]
  },
  {
   "cell_type": "code",
   "execution_count": null,
   "metadata": {},
   "outputs": [],
   "source": [
    "import matplotlib.pyplot as plt\n",
    "import matplotlib.image as mpimg\n",
    "\n",
    "import numpy as np\n",
    "import pandas as pd\n",
    "from IPython.display import Image, HTML, display"
   ]
  },
  {
   "cell_type": "markdown",
   "metadata": {},
   "source": [
    "## Results summary\n",
    "1. Investigating some details on the Poisson2d unstructured case\n",
    "  - Solution modes in our update are not orthogonal\n",
    "  - \n",
    "2. Tests on turbulent Roe physics"
   ]
  },
  {
   "cell_type": "markdown",
   "metadata": {},
   "source": [
    "## 1. Details on Poisson problem\n",
    "- The DMD modes are not orthogonal, and based on the figure below, we can see that for the Poisson problem at rank 6 we have a jump in the norm of the orthogonality of the DMD modes (The inner prodcut <Modes, Modes>).<br>\n",
    "So when we use more than 5 modes, we get less accurate basis functions for our update.\n"
   ]
  },
  {
   "cell_type": "code",
   "execution_count": null,
   "metadata": {},
   "outputs": [],
   "source": [
    "matNorms = [0.07842001614512013, 0.10111551072851786, 0.09536423695241501, 0.11233134859337891, 0.7197968991484899, 0.9492108561452418, 0.9676009052887693, 1.7506578737816438]\n",
    "ranks = [2, 3, 4, 5, 6, 7, 8, 9]\n",
    "plt.plot(ranks, matNorms)\n",
    "plt.scatter(ranks, matNorms)\n",
    "plt.yscale('log'); plt.grid(linestyle='--', alpha=0.4); plt.title(\"Norm of the orthogonality of the modes\")\n",
    "plt.ylabel(\"norm of the inner product <modes, modes> matrix\"); plt.xlabel(\"ranks\")"
   ]
  },
  {
   "cell_type": "markdown",
   "metadata": {},
   "source": [
    "For the poisson all these analyzed modes have real eigenvalues. But for the below test cases which  are for the structured Navier--Stokes problem, the modes are mostly related to complex eigenvalues."
   ]
  },
  {
   "cell_type": "code",
   "execution_count": null,
   "metadata": {},
   "outputs": [],
   "source": [
    "modeNorms = np.genfromtxt(\"Nav1000_20snap_modeNorms.csv\")\n",
    "updateNorms = np.genfromtxt(\"Nav1000_20snap_updateNorms.csv\")\n",
    "updateNorms[1] = 0.24 # removing element 3 because it looks like an outlier\n",
    "ranks = [*range(2,20)]\n",
    "\n",
    "fig = plt.figure(figsize=(15,5), dpi=130)\n",
    "rows = 1; cols = 2\n",
    "fig.suptitle('Navier--Stokes Structured - W10 H1 - 20 Snaps - dt: 0.05', fontsize=16)\n",
    "\n",
    "ax = fig.add_subplot(rows, cols, 1)\n",
    "ax.plot(ranks, modeNorms); ax.scatter(ranks, modeNorms)\n",
    "plt.grid(linestyle='--', alpha=0.4); plt.title(\"Norm of the orthogonality of the modes\")\n",
    "plt.ylabel(\"norm of the inner product <modes, modes> matrix\"); plt.xlabel(\"ranks\")\n",
    "\n",
    "ax = fig.add_subplot(rows, cols, 2)\n",
    "plt.plot(ranks, updateNorms); plt.scatter(ranks, updateNorms)\n",
    "plt.grid(linestyle='--', alpha=0.4); plt.title(\"Norm of the orthogonality of the modes\")\n",
    "plt.ylabel(\"norm of the inner product <modes, modes> matrix\"); plt.xlabel(\"ranks\")\n"
   ]
  },
  {
   "cell_type": "markdown",
   "metadata": {},
   "source": [
    "After 10 modes the complex conjugate pair is not visible from the norms of the DMD modes (their dot product result)<br>\n",
    "Also from the right figure, which shows the inner product of updates with DMD modes $<update, DMD modes>$, we can see that after 8 modes the pattern changes. In this test case after 8 modes the result doesn't change much, and using 8 modes is enough.\n"
   ]
  },
  {
   "cell_type": "code",
   "execution_count": null,
   "metadata": {},
   "outputs": [],
   "source": [
    "modeNorms = np.genfromtxt(\"Nav1000_20snap_w5_modeNorms.csv\")\n",
    "updateNorms = np.genfromtxt(\"Nav1000_20snap_w5_updateNorms.csv\")\n",
    "ranks = [*range(2,20)]\n",
    "\n",
    "fig = plt.figure(figsize=(15,5), dpi=130)\n",
    "rows = 1; cols = 2\n",
    "fig.suptitle('Navier--Stokes Structured - W10 H1 - 20 Snaps - dt: 0.05', fontsize=16)\n",
    "\n",
    "ax = fig.add_subplot(rows, cols, 1)\n",
    "ax.plot(ranks, modeNorms); ax.scatter(ranks, modeNorms)\n",
    "plt.grid(linestyle='--', alpha=0.4); plt.title(\"Norm of the orthogonality of the modes\")\n",
    "plt.ylabel(\"norm of the inner product <modes, modes> matrix\"); plt.xlabel(\"ranks\")\n",
    "\n",
    "ax = fig.add_subplot(rows, cols, 2)\n",
    "plt.plot(ranks, updateNorms); plt.scatter(ranks, updateNorms)\n",
    "plt.grid(linestyle='--', alpha=0.4); plt.title(\"Norm of the orthogonality of the modes\")\n",
    "plt.ylabel(\"norm of the inner product <modes, modes> matrix\"); plt.xlabel(\"ranks\")\n"
   ]
  },
  {
   "cell_type": "markdown",
   "metadata": {},
   "source": [
    "For this test case which is for the Navier--Stokes of Width 5, using more than 8 modes is of no use."
   ]
  },
  {
   "cell_type": "markdown",
   "metadata": {},
   "source": [
    "## 2. Tests on Turbulent Roe 2D"
   ]
  },
  {
   "cell_type": "markdown",
   "metadata": {},
   "source": [
    "Below are some residual plots for the Turbulent Roe problem, and some solution plots for var 4 of the problem (the turbulent variable) which I think is main cause of all the trouble.<br>\n",
    "At the end, there is a residual plot from the ITA solver which gives the most desirable form of residual slope for our work, but in order to achieve the same results using the Krylov code, some modifications need to be implemented.<br>\n",
    "The figure below shows cases where I applied dmd updates with different configurations but the results are not promising."
   ]
  },
  {
   "cell_type": "code",
   "execution_count": 11,
   "metadata": {},
   "outputs": [
    {
     "data": {
      "text/html": [
       "<table><tr><td><img src='RoeTurb2D_badUpdates.png' width=600></td><td><img src='RoeTurb2D_badUpdates_moregeneral.png' width=600></td></tr></table>"
      ],
      "text/plain": [
       "<IPython.core.display.HTML object>"
      ]
     },
     "metadata": {},
     "output_type": "display_data"
    }
   ],
   "source": [
    "display(HTML(\"<table><tr><td><img src='RoeTurb2D_badUpdates.png' width=600></td><td><img src='RoeTurb2D_badUpdates_moregeneral.png' width=600></td></tr></table>\"))"
   ]
  },
  {
   "cell_type": "code",
   "execution_count": null,
   "metadata": {},
   "outputs": [],
   "source": [
    "fig = plt.figure(figsize=(15,4), dpi=200)\n",
    "\n",
    "rows = 1; cols = 2\n",
    "fig.suptitle('\"Roe Turb - var4\", iter: 800, rank: 2, snap: 25', fontsize=16)\n",
    "\n",
    "ax = fig.add_subplot(rows, cols, 1)\n",
    "image1 = mpimg.imread('dmd_iter800_r2_snap25_update.png')\n",
    "plt.imshow(image1)\n",
    "plt.axis('off')\n",
    "plt.title('DMD update')\n",
    "\n",
    "ax = fig.add_subplot(rows, cols, 2)\n",
    "image1 = mpimg.imread('dmd_iter800_r2_snap25_afterUpdate.png')\n",
    "plt.imshow(image1)\n",
    "plt.axis('off')\n",
    "plt.title('After the update')\n",
    "\n",
    "plt.show()"
   ]
  },
  {
   "cell_type": "code",
   "execution_count": null,
   "metadata": {},
   "outputs": [],
   "source": [
    "fig = plt.figure(figsize=(15,4), dpi=100)\n",
    "\n",
    "image1 = mpimg.imread('dmd_iter800_r9_snap10_afterUpdate.png')\n",
    "plt.imshow(image1)\n",
    "plt.axis('off')\n",
    "plt.title('\"Roe Turb - update\", iter: 800, rank: 9, snap: 10')\n",
    "plt.show()"
   ]
  },
  {
   "cell_type": "code",
   "execution_count": null,
   "metadata": {},
   "outputs": [],
   "source": [
    "fig = plt.figure(figsize=(15,4), dpi=200)\n",
    "\n",
    "rows = 1; cols = 2\n",
    "fig.suptitle('\"Roe Turb\", iter: 3500, rank: 2, snap: 25', fontsize=16)\n",
    "\n",
    "ax = fig.add_subplot(rows, cols, 1)\n",
    "image1 = mpimg.imread('dmd_iter3500_r2_snap25_update.png')\n",
    "plt.imshow(image1)\n",
    "plt.axis('off')\n",
    "plt.title('DMD update')\n",
    "\n",
    "ax = fig.add_subplot(rows, cols, 2)\n",
    "image1 = mpimg.imread('dmd_iter3500_r2_snap25_afterUpdate.png')\n",
    "plt.imshow(image1)\n",
    "plt.axis('off')\n",
    "plt.title('After the update')\n",
    "\n",
    "plt.show()"
   ]
  },
  {
   "cell_type": "code",
   "execution_count": null,
   "metadata": {},
   "outputs": [],
   "source": [
    "fig = plt.figure(figsize=(15,4), dpi=100)\n",
    "\n",
    "image1 = mpimg.imread('ITA_iter7000.png')\n",
    "plt.imshow(image1)\n",
    "plt.axis('off')\n",
    "plt.title('\"Roe Turb - ITA solver\", iter: 7000')\n",
    "plt.show()"
   ]
  },
  {
   "cell_type": "markdown",
   "metadata": {},
   "source": [
    "<p align=\"center\">\n",
    "<img src=\"RoeTurbSA2D_ITA_vs_Krylov.png\" width=670 alt=\"DMD limits for added translation\">\n",
    "</p>"
   ]
  },
  {
   "cell_type": "markdown",
   "metadata": {},
   "source": [
    "Options that are different for ITA vs Krylov:\n",
    "- -pre_order 1\n",
    "- -exnut 1    # Ignore \\tilde{nu} entries in the line -search\n",
    "\n"
   ]
  },
  {
   "cell_type": "markdown",
   "metadata": {},
   "source": []
  }
 ],
 "metadata": {
  "kernelspec": {
   "display_name": "Python 3.10.7 64-bit",
   "language": "python",
   "name": "python3"
  },
  "language_info": {
   "codemirror_mode": {
    "name": "ipython",
    "version": 3
   },
   "file_extension": ".py",
   "mimetype": "text/x-python",
   "name": "python",
   "nbconvert_exporter": "python",
   "pygments_lexer": "ipython3",
   "version": "3.10.7"
  },
  "orig_nbformat": 4,
  "vscode": {
   "interpreter": {
    "hash": "5b7c61eb1d98124d2e6ed42ed2c0940dfdc8c685290a92f24f9009bebd4a70d4"
   }
  }
 },
 "nbformat": 4,
 "nbformat_minor": 2
}
