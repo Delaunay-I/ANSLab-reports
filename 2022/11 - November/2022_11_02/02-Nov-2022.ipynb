{
 "cells": [
  {
   "cell_type": "markdown",
   "metadata": {},
   "source": [
    "# 02-Nov-2022"
   ]
  },
  {
   "cell_type": "markdown",
   "metadata": {},
   "source": [
    "## Results summary\n",
    "1. Investigating some details on the Poisson2d unstructured case\n",
    "  - Solution modes in our update are not orthogonal\n",
    "  - "
   ]
  },
  {
   "cell_type": "markdown",
   "metadata": {},
   "source": [
    "## 1. Details on Poisson problem\n",
    "- The solution modes are not orthogonal and their inner product is in the range of ($10^{-1} \\leftrightsquigarrow 10^{3}$)."
   ]
  },
  {
   "cell_type": "markdown",
   "metadata": {},
   "source": []
  }
 ],
 "metadata": {
  "kernelspec": {
   "display_name": "Python 3.10.7 64-bit",
   "language": "python",
   "name": "python3"
  },
  "language_info": {
   "name": "python",
   "version": "3.10.7"
  },
  "orig_nbformat": 4,
  "vscode": {
   "interpreter": {
    "hash": "5b7c61eb1d98124d2e6ed42ed2c0940dfdc8c685290a92f24f9009bebd4a70d4"
   }
  }
 },
 "nbformat": 4,
 "nbformat_minor": 2
}
