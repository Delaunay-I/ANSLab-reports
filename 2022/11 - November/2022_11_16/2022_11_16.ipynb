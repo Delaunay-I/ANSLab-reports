{
 "cells": [
  {
   "cell_type": "markdown",
   "id": "e62b7709-bb79-4351-9ab2-1a06dfb46429",
   "metadata": {},
   "source": [
    "# 16 Nov 2022 - NOTES"
   ]
  },
  {
   "cell_type": "code",
   "execution_count": 8,
   "id": "15933817",
   "metadata": {},
   "outputs": [],
   "source": [
    "from IPython.display import Image, HTML, display"
   ]
  },
  {
   "cell_type": "markdown",
   "id": "a6ebf56c",
   "metadata": {},
   "source": [
    "Analysis:\n",
    "- We knew that by increasing the snapshot size, we get more accurate mode decomposition.\n",
    "- Here we are getting accurate modes by using higher ranks. For example, truncating the SVD by higher ranks, we get more accurate 1st mode.<br>\n",
    "This means that not by increasing the snapshot size, but increasing the truncation rank, we get more accurate modes (more accurate dominant modes - for example more accurate first mode)\n",
    "- Higher inner product between Modes and solution, means that there is more of the modes in the solution. Smaller amount of the inner product means the modes are eliminated more.\n",
    "<strong>For this case (inner product) how should we normalize our vectors? By the vector norm or the standard deviation?</strong>"
   ]
  },
  {
   "cell_type": "markdown",
   "id": "5b48ca00",
   "metadata": {},
   "source": [
    "When increasing the DMD rank, the eigenvector of Atilde matrix changes sign at some times, which causes certain DMD modes to change signs too. For example in 1D poisson, sometimes we have sin(x) and other times we have -sin(x). <br>\n",
    "The reason is the change of sign in eigenvector of Atilde."
   ]
  },
  {
   "cell_type": "markdown",
   "id": "cf0942b4",
   "metadata": {},
   "source": [
    "---\n",
    "Not completely accurate, See section below this\n",
    "## more accurate modes\n",
    "We have 2 options for increasing the accuracy of mode computation.<br>\n",
    "Ways to decrease the uncertainty of mode computation:\n",
    "1. Increase the number of snapshots\n",
    "2. use more modes for the SVD truncation --- the less we truncate from the full SVD, the more accurate our modes would be.\n",
    "    - But for the case of increasing the truncation rank, it would be useless to use singularvalues smaller than 1e-15 for your reconstruction. And even it would decrease the accuracy of your modes by adding noise.\n",
    "\n",
    "    <strong>if we use enough snapshots in our dataset, our DMD modes will have norms equal to the amplification factors</strong>\n",
    "---"
   ]
  },
  {
   "cell_type": "markdown",
   "id": "09aa936c",
   "metadata": {},
   "source": [
    "- Increasing the snapshots, causes linear dependence after some critical number. Using snapshots more than that number is useless.\n",
    "- For SVD truncation: using singularvalues smaller than 10e-15 is useless. \n",
    "    - Also there is not difference between eliminating all the modes together or only a single most dominant mode."
   ]
  },
  {
   "cell_type": "code",
   "execution_count": 11,
   "id": "60113daf",
   "metadata": {},
   "outputs": [
    {
     "data": {
      "text/html": [
       "<table><tr><td><img src='no_effect_of_using_more_modes.png' width=600></td><td><img src='effect_of_higher_svd_truncations.png' width=600></td></tr></table>"
      ],
      "text/plain": [
       "<IPython.core.display.HTML object>"
      ]
     },
     "metadata": {},
     "output_type": "display_data"
    }
   ],
   "source": [
    "display(HTML(\"<table><tr><td><img src='no_effect_of_using_more_modes.png' width=600></td><td><img src='effect_of_higher_svd_truncations.png' width=600></td></tr></table>\"))"
   ]
  },
  {
   "cell_type": "markdown",
   "id": "2a1f4cbb",
   "metadata": {},
   "source": [
    "How can we interpret FFT modes? for comparing them with dmd modes.<br>\n",
    "In the figure below:\n",
    "- f-recon is reconstruction of the solution update using FFT modes.\n",
    "- green line is the 1st DMD mode, multiplied by the singularvalue.\n",
    "- black line is the solution update.\n",
    "\n",
    "For FFT, we don't have singularvalues to scale the mode, nor we have time_dynamics to sum them to infinity."
   ]
  },
  {
   "cell_type": "code",
   "execution_count": 9,
   "id": "4659c3e4",
   "metadata": {},
   "outputs": [
    {
     "data": {
      "text/html": [
       "<table><tr><td><img src='FFT_DMD_modes.png' width=600></td><td><img src='FFT_modes_and_recon.png' width=600></td></tr></table>"
      ],
      "text/plain": [
       "<IPython.core.display.HTML object>"
      ]
     },
     "metadata": {},
     "output_type": "display_data"
    }
   ],
   "source": [
    "display(HTML(\"<table><tr><td><img src='FFT_DMD_modes.png' width=600></td><td><img src='FFT_modes_and_recon.png' width=600></td></tr></table>\"))"
   ]
  },
  {
   "cell_type": "markdown",
   "id": "01158a4d",
   "metadata": {},
   "source": [
    "## Q1:\n",
    "#### when we apply a DMD update, we should wait for some iterations before we can apply another update. Also, for different problems and geometries, this time span changes.<br> So, what are the factors that limit us in applying the second DMD update? (mathematical and geometrical)\n"
   ]
  },
  {
   "cell_type": "markdown",
   "id": "2eb9c4fa",
   "metadata": {},
   "source": [
    "lsdkafnlkdflsdfa  \n",
    "sd;fksda;fk"
   ]
  },
  {
   "cell_type": "markdown",
   "id": "d664c372",
   "metadata": {},
   "source": []
  }
 ],
 "metadata": {
  "kernelspec": {
   "display_name": "Python 3.10.7 64-bit",
   "language": "python",
   "name": "python3"
  },
  "language_info": {
   "codemirror_mode": {
    "name": "ipython",
    "version": 3
   },
   "file_extension": ".py",
   "mimetype": "text/x-python",
   "name": "python",
   "nbconvert_exporter": "python",
   "pygments_lexer": "ipython3",
   "version": "3.10.7"
  },
  "vscode": {
   "interpreter": {
    "hash": "5b7c61eb1d98124d2e6ed42ed2c0940dfdc8c685290a92f24f9009bebd4a70d4"
   }
  }
 },
 "nbformat": 4,
 "nbformat_minor": 5
}
