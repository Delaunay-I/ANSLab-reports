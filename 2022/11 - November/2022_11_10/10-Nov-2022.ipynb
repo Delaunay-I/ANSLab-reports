{
 "cells": [
  {
   "cell_type": "markdown",
   "id": "c89a7482-9672-44a8-8e29-b5d46c98acdf",
   "metadata": {
    "tags": []
   },
   "source": [
    "# Novermber, 10, 2022"
   ]
  },
  {
   "cell_type": "code",
   "execution_count": 1,
   "id": "f8ceca70-e7f0-4608-89ea-74bbb49251c8",
   "metadata": {},
   "outputs": [],
   "source": [
    "import matplotlib.pyplot as plt\n",
    "import matplotlib.image as mpimg\n",
    "\n",
    "import numpy as np\n",
    "import pandas as pd\n",
    "from IPython.display import Image, HTML, display"
   ]
  },
  {
   "cell_type": "markdown",
   "id": "ec2a2eac-dc88-4a28-9ce1-4ab3efe7e02d",
   "metadata": {},
   "source": [
    "## Results summary\n",
    "1. Achieved convergence sppedup for RoeTurb2D physics\n",
    "    - SVD takes about 20 minutes or more to compute\n",
    "    - in Python, the whole process (and even more - computing Modes and time dynamics) takes about 3 seconds"
   ]
  },
  {
   "cell_type": "markdown",
   "id": "ab5908c1-7ed2-4f10-80a3-f09ce77e2a73",
   "metadata": {},
   "source": [
    "# Turbulent case"
   ]
  },
  {
   "cell_type": "code",
   "execution_count": 9,
   "id": "360247a8-0128-4b05-be95-a8f66433deb3",
   "metadata": {},
   "outputs": [
    {
     "data": {
      "text/html": [
       "<table><tr><td><img src='ITA_RoeTurb_2_3dmds.png' width=600></td><td><img src='ITA_nodmd.png' width=600></td></tr></table>"
      ],
      "text/plain": [
       "<IPython.core.display.HTML object>"
      ]
     },
     "metadata": {},
     "output_type": "display_data"
    }
   ],
   "source": [
    "display(HTML(\"<table><tr><td><img src='ITA_RoeTurb_2_3dmds.png' width=600></td><td><img src='ITA_nodmd.png' width=600></td></tr></table>\"))"
   ]
  },
  {
   "cell_type": "code",
   "execution_count": 10,
   "id": "a3aea982-81cd-43c0-a224-2f17f34b568d",
   "metadata": {},
   "outputs": [
    {
     "data": {
      "text/html": [
       "<table><tr><td><img src='ITA_RoeTurb_2_3dmds_vsnoDMD.png' width=600></td><td><img src='ITA_RoeTurb_2_3dmds_vsnoDMD_all.png' width=600></td></tr></table>"
      ],
      "text/plain": [
       "<IPython.core.display.HTML object>"
      ]
     },
     "metadata": {},
     "output_type": "display_data"
    }
   ],
   "source": [
    "display(HTML(\"<table><tr><td><img src='ITA_RoeTurb_2_3dmds_vsnoDMD.png' width=600></td><td><img src='ITA_RoeTurb_2_3dmds_vsnoDMD_all.png' width=600></td></tr></table>\"))"
   ]
  },
  {
   "cell_type": "markdown",
   "id": "f6fa7d26-9612-4943-bf12-5c5789bc23c3",
   "metadata": {},
   "source": [
    "The norms are not consistent. Above, for yellow line, we have 7.27e-6 and is effective, whilst for the figure below norms of larger than 5e-7 ar all ineffective."
   ]
  },
  {
   "cell_type": "markdown",
   "id": "0eeba052-fbb6-4672-b350-c0c795de5409",
   "metadata": {},
   "source": [
    "<p align=\"center\">\n",
    "<img src=\"ITA_RoeTurb_5dmds_vsnoDMD.png\" width=600 alt=\"DMD limits for added translation\">\n",
    "</p> "
   ]
  },
  {
   "cell_type": "markdown",
   "id": "0f5bcb8c-ee7c-4357-9b50-976bc05c5f3b",
   "metadata": {},
   "source": []
  }
 ],
 "metadata": {
  "kernelspec": {
   "display_name": "Python 3 (ipykernel)",
   "language": "python",
   "name": "python3"
  },
  "language_info": {
   "codemirror_mode": {
    "name": "ipython",
    "version": 3
   },
   "file_extension": ".py",
   "mimetype": "text/x-python",
   "name": "python",
   "nbconvert_exporter": "python",
   "pygments_lexer": "ipython3",
   "version": "3.8.10"
  }
 },
 "nbformat": 4,
 "nbformat_minor": 5
}
